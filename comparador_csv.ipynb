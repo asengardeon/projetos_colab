{
  "nbformat": 4,
  "nbformat_minor": 0,
  "metadata": {
    "colab": {
      "name": "comparador_csv.ipynb",
      "provenance": [],
      "authorship_tag": "ABX9TyOsmpf1FZk7uMGXtFEFJS3T",
      "include_colab_link": true
    },
    "kernelspec": {
      "name": "python3",
      "display_name": "Python 3"
    },
    "language_info": {
      "name": "python"
    }
  },
  "cells": [
    {
      "cell_type": "markdown",
      "metadata": {
        "id": "view-in-github",
        "colab_type": "text"
      },
      "source": [
        "<a href=\"https://colab.research.google.com/github/asengardeon/projetos_colab/blob/main/comparador_csv.ipynb\" target=\"_parent\"><img src=\"https://colab.research.google.com/assets/colab-badge.svg\" alt=\"Open In Colab\"/></a>"
      ]
    },
    {
      "cell_type": "code",
      "metadata": {
        "id": "SYWnMlCfJ5vm"
      },
      "source": [
        "import pandas as pd"
      ],
      "execution_count": 40,
      "outputs": []
    },
    {
      "cell_type": "code",
      "metadata": {
        "id": "Hf1h8TxoV8jg"
      },
      "source": [
        "arquivo_1 = 'novo.csv'\n",
        "arquivo_2 = 'novo-2.csv'\n",
        "colunas_comparacao = ['Empresa', 'Filial', 'Pedido', 'Total']"
      ],
      "execution_count": 66,
      "outputs": []
    },
    {
      "cell_type": "code",
      "metadata": {
        "id": "MbM9Me3RJ6wd"
      },
      "source": [
        "file1_df = pd.read_csv(arquivo_1, sep=\";\")\n",
        "file2_df = pd.read_csv(arquivo_2, sep=\";\")"
      ],
      "execution_count": 68,
      "outputs": []
    },
    {
      "cell_type": "code",
      "metadata": {
        "id": "A95DZNM-SB9d"
      },
      "source": [
        "saida = pd.concat([file1_df[colunas_comparacao], file2_df[colunas_comparacao]]).drop_duplicates(keep=False)"
      ],
      "execution_count": 70,
      "outputs": []
    },
    {
      "cell_type": "code",
      "metadata": {
        "colab": {
          "base_uri": "https://localhost:8080/",
          "height": 232
        },
        "id": "9fOvdsewWiym",
        "outputId": "0d73d51e-2a6b-453b-c82c-f45f2f00584d"
      },
      "source": [
        "saida"
      ],
      "execution_count": 71,
      "outputs": [
        {
          "output_type": "execute_result",
          "data": {
            "text/html": [
              "<div>\n",
              "<style scoped>\n",
              "    .dataframe tbody tr th:only-of-type {\n",
              "        vertical-align: middle;\n",
              "    }\n",
              "\n",
              "    .dataframe tbody tr th {\n",
              "        vertical-align: top;\n",
              "    }\n",
              "\n",
              "    .dataframe thead th {\n",
              "        text-align: right;\n",
              "    }\n",
              "</style>\n",
              "<table border=\"1\" class=\"dataframe\">\n",
              "  <thead>\n",
              "    <tr style=\"text-align: right;\">\n",
              "      <th></th>\n",
              "      <th>Empresa</th>\n",
              "      <th>Filial</th>\n",
              "      <th>Pedido</th>\n",
              "      <th>Total</th>\n",
              "    </tr>\n",
              "  </thead>\n",
              "  <tbody>\n",
              "    <tr>\n",
              "      <th>0</th>\n",
              "      <td>3</td>\n",
              "      <td>619</td>\n",
              "      <td>668398</td>\n",
              "      <td>355,5</td>\n",
              "    </tr>\n",
              "    <tr>\n",
              "      <th>13</th>\n",
              "      <td>3</td>\n",
              "      <td>619</td>\n",
              "      <td>668429</td>\n",
              "      <td>5574,8</td>\n",
              "    </tr>\n",
              "    <tr>\n",
              "      <th>22</th>\n",
              "      <td>3</td>\n",
              "      <td>619</td>\n",
              "      <td>668438</td>\n",
              "      <td>5544,26</td>\n",
              "    </tr>\n",
              "    <tr>\n",
              "      <th>0</th>\n",
              "      <td>3</td>\n",
              "      <td>619</td>\n",
              "      <td>668398</td>\n",
              "      <td>396,88</td>\n",
              "    </tr>\n",
              "    <tr>\n",
              "      <th>13</th>\n",
              "      <td>3</td>\n",
              "      <td>619</td>\n",
              "      <td>668429</td>\n",
              "      <td>5574,81</td>\n",
              "    </tr>\n",
              "    <tr>\n",
              "      <th>22</th>\n",
              "      <td>3</td>\n",
              "      <td>619</td>\n",
              "      <td>668438</td>\n",
              "      <td>5544,27</td>\n",
              "    </tr>\n",
              "  </tbody>\n",
              "</table>\n",
              "</div>"
            ],
            "text/plain": [
              "    Empresa  Filial  Pedido    Total\n",
              "0         3     619  668398    355,5\n",
              "13        3     619  668429   5574,8\n",
              "22        3     619  668438  5544,26\n",
              "0         3     619  668398   396,88\n",
              "13        3     619  668429  5574,81\n",
              "22        3     619  668438  5544,27"
            ]
          },
          "metadata": {},
          "execution_count": 71
        }
      ]
    },
    {
      "cell_type": "code",
      "metadata": {
        "id": "k6YT5FeaWQp3"
      },
      "source": [
        "saida.to_csv('saida.csv')"
      ],
      "execution_count": 72,
      "outputs": []
    }
  ]
}